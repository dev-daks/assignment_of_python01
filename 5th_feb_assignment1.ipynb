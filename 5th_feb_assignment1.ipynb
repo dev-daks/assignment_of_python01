{
 "cells": [
  {
   "cell_type": "markdown",
   "id": "ada8cbbc",
   "metadata": {},
   "source": [
    "Q1. Explain Class and Object with respect to Object-Oriented Programming. Give a suitable example."
   ]
  },
  {
   "cell_type": "raw",
   "id": "f299ccd0",
   "metadata": {},
   "source": [
    "ans1: object-oriented programming (OOP), a class is a blueprint or template that defines the characteristics and behaviors (methods and properties) of a particular type of object. It serves as a blueprint for creating individual instances of objects, known as objects or instances of the class.\n",
    "\n",
    "An object, on the other hand, is an instance of a class. It represents a specific entity or thing that possesses the characteristics and behaviors defined by its class. Objects are created from the class template and can interact with each other through method invocations.\n",
    "\n",
    "Let's take the example of a class called \"Car\":"
   ]
  },
  {
   "cell_type": "code",
   "execution_count": 1,
   "id": "4dffc0c8",
   "metadata": {},
   "outputs": [],
   "source": [
    "class Car:\n",
    "    def __init__(self, name, model, year):\n",
    "        self.name = name\n",
    "        self.model = model\n",
    "        self.year = year\n",
    "\n",
    "    def start_engine(self):\n",
    "        print(\"The engine is running.\")\n",
    "\n",
    "    def stop_engine(self):\n",
    "        print(\"The engine has stopped.\")\n",
    "\n",
    "    def honk_horn(self):\n",
    "        print(\"Honk! Honk!\")"
   ]
  },
  {
   "cell_type": "code",
   "execution_count": 3,
   "id": "30f4b9eb",
   "metadata": {},
   "outputs": [],
   "source": [
    "c=Car(\"mercedes\",\"Benz-e_class\",2023)"
   ]
  },
  {
   "cell_type": "code",
   "execution_count": 4,
   "id": "3a975f27",
   "metadata": {},
   "outputs": [
    {
     "data": {
      "text/plain": [
       "<__main__.Car at 0x22a9cbb8b50>"
      ]
     },
     "execution_count": 4,
     "metadata": {},
     "output_type": "execute_result"
    }
   ],
   "source": [
    "c"
   ]
  },
  {
   "cell_type": "code",
   "execution_count": 5,
   "id": "bcda407a",
   "metadata": {},
   "outputs": [
    {
     "name": "stdout",
     "output_type": "stream",
     "text": [
      "The engine is running.\n"
     ]
    }
   ],
   "source": [
    "c.start_engine()"
   ]
  },
  {
   "cell_type": "code",
   "execution_count": 6,
   "id": "8d7c2076",
   "metadata": {},
   "outputs": [
    {
     "name": "stdout",
     "output_type": "stream",
     "text": [
      "The engine has stopped.\n"
     ]
    }
   ],
   "source": [
    "c.stop_engine()"
   ]
  },
  {
   "cell_type": "code",
   "execution_count": null,
   "id": "870e29a8",
   "metadata": {},
   "outputs": [],
   "source": []
  }
 ],
 "metadata": {
  "kernelspec": {
   "display_name": "Python 3 (ipykernel)",
   "language": "python",
   "name": "python3"
  },
  "language_info": {
   "codemirror_mode": {
    "name": "ipython",
    "version": 3
   },
   "file_extension": ".py",
   "mimetype": "text/x-python",
   "name": "python",
   "nbconvert_exporter": "python",
   "pygments_lexer": "ipython3",
   "version": "3.9.12"
  }
 },
 "nbformat": 4,
 "nbformat_minor": 5
}
