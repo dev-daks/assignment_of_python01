{
 "cells": [
  {
   "cell_type": "markdown",
   "id": "55971c30",
   "metadata": {},
   "source": [
    "Q1. Which keyword is used to create a function? Create a function to return a list of odd numbers in the\n",
    "range of 1 to 25."
   ]
  },
  {
   "cell_type": "raw",
   "id": "de2d6f53",
   "metadata": {},
   "source": [
    "def keyword is used for creating a function"
   ]
  },
  {
   "cell_type": "code",
   "execution_count": 31,
   "id": "3909d94f",
   "metadata": {},
   "outputs": [],
   "source": [
    "def odd_numbers():\n",
    "    l1=[]\n",
    "    for i in range (1,26):\n",
    "        if (~i%2==0):\n",
    "            print(i)\n",
    "            l1.append(i)\n",
    "    return l1"
   ]
  },
  {
   "cell_type": "code",
   "execution_count": 33,
   "id": "d0ab34dd",
   "metadata": {},
   "outputs": [
    {
     "name": "stdout",
     "output_type": "stream",
     "text": [
      "1\n",
      "3\n",
      "5\n",
      "7\n",
      "9\n",
      "11\n",
      "13\n",
      "15\n",
      "17\n",
      "19\n",
      "21\n",
      "23\n",
      "25\n"
     ]
    },
    {
     "data": {
      "text/plain": [
       "[1, 3, 5, 7, 9, 11, 13, 15, 17, 19, 21, 23, 25]"
      ]
     },
     "execution_count": 33,
     "metadata": {},
     "output_type": "execute_result"
    }
   ],
   "source": [
    "odd_numbers()"
   ]
  },
  {
   "cell_type": "markdown",
   "id": "c9989517",
   "metadata": {},
   "source": [
    "Q2. Why *args and **kwargs is used in some functions? Create a function each for *args and **kwargs\n",
    "to demonstrate their use."
   ]
  },
  {
   "cell_type": "raw",
   "id": "11243f8b",
   "metadata": {},
   "source": [
    "answer: *args and **kwargs are special syntaxes used in function definitions to handle a variable number of arguments. They allow you to pass an arbitrary number of positional arguments (*args) and keyword arguments (**kwargs) to a function."
   ]
  },
  {
   "cell_type": "code",
   "execution_count": 34,
   "id": "5fcfc79e",
   "metadata": {},
   "outputs": [],
   "source": [
    "def keyword(*args):\n",
    "    return args"
   ]
  },
  {
   "cell_type": "code",
   "execution_count": 35,
   "id": "7c9f726b",
   "metadata": {},
   "outputs": [
    {
     "data": {
      "text/plain": [
       "(1, 2, 3, 4)"
      ]
     },
     "execution_count": 35,
     "metadata": {},
     "output_type": "execute_result"
    }
   ],
   "source": [
    "keyword(1,2,3,4)"
   ]
  },
  {
   "cell_type": "code",
   "execution_count": 36,
   "id": "e1afeab3",
   "metadata": {},
   "outputs": [],
   "source": [
    "def keyword1(*args,a=4):\n",
    "    return args ,a"
   ]
  },
  {
   "cell_type": "code",
   "execution_count": 37,
   "id": "28459764",
   "metadata": {},
   "outputs": [
    {
     "data": {
      "text/plain": [
       "((1, 2, 3, 4), 4)"
      ]
     },
     "execution_count": 37,
     "metadata": {},
     "output_type": "execute_result"
    }
   ],
   "source": [
    "keyword1(1,2,3,4)"
   ]
  },
  {
   "cell_type": "code",
   "execution_count": 38,
   "id": "fd970e49",
   "metadata": {},
   "outputs": [],
   "source": [
    "def keyword2(*args,**kwargs):\n",
    "    return args,kwargs"
   ]
  },
  {
   "cell_type": "code",
   "execution_count": 39,
   "id": "d4f450be",
   "metadata": {},
   "outputs": [
    {
     "data": {
      "text/plain": [
       "((2, 3, 4, 5, {'name': 'daksh', 'class': 'btech 3rd year'}), {})"
      ]
     },
     "execution_count": 39,
     "metadata": {},
     "output_type": "execute_result"
    }
   ],
   "source": [
    "keyword2(2,3,4,5,{'name':'daksh',\"class\":'btech 3rd year'})"
   ]
  },
  {
   "cell_type": "markdown",
   "id": "5abe69b8",
   "metadata": {},
   "source": [
    "Q3.  What is an iterator in python? Name the method used to initialise the iterator object and the method\n",
    "used for iteration. Use these methods to print the first five elements of the given list [2, 4, 6, 8, 10, 12, 14,\n",
    "16, 18, 20]."
   ]
  },
  {
   "cell_type": "raw",
   "id": "4bd65c4a",
   "metadata": {},
   "source": [
    "answer: an iterator is an object that implements the iterator protocol, which consists of two methods: __iter__() and __next__(). The purpose of an iterator is to provide a way to access the elements of a container or sequence one at a time."
   ]
  },
  {
   "cell_type": "code",
   "execution_count": 40,
   "id": "4504f0c2",
   "metadata": {},
   "outputs": [],
   "source": [
    "l=[2, 4, 6, 8, 10, 12, 14, 16, 18, 20]"
   ]
  },
  {
   "cell_type": "code",
   "execution_count": 41,
   "id": "25206d9d",
   "metadata": {},
   "outputs": [],
   "source": [
    "my_iterable_list=iter(l)"
   ]
  },
  {
   "cell_type": "code",
   "execution_count": 42,
   "id": "6c522f41",
   "metadata": {},
   "outputs": [
    {
     "name": "stdout",
     "output_type": "stream",
     "text": [
      "2\n",
      "4\n",
      "6\n",
      "8\n",
      "10\n"
     ]
    }
   ],
   "source": [
    "for i in range(5):\n",
    "    element=next(my_iterable_list)\n",
    "    print(element)"
   ]
  },
  {
   "cell_type": "markdown",
   "id": "13ebbf5d",
   "metadata": {},
   "source": [
    "Q4.  What is a generator function in python? Why yield keyword is used? Give an example of a generator\n",
    "function."
   ]
  },
  {
   "cell_type": "raw",
   "id": "15c7dd0c",
   "metadata": {},
   "source": [
    "a generator function is a special type of function that generates a sequence of values using the yield keyword. It is a more memory-efficient way of creating iterators compared to traditional methods. Instead of returning a single value like a regular function, a generator function returns an iterator object that can be iterated over.\n",
    "\n",
    "The yield keyword is used within a generator function to specify the values to be generated one at a time. When a generator function is called, it returns a generator object that can be iterated over using a loop or by using the next() function. Each time the yield statement is encountered, the function's state is saved, and the yielded value is returned. The next time the generator is iterated, it resumes execution from where it left off, continuing until the next yield statement is encountered."
   ]
  },
  {
   "cell_type": "code",
   "execution_count": 43,
   "id": "916f624e",
   "metadata": {},
   "outputs": [],
   "source": [
    "# Example to find even number"
   ]
  },
  {
   "cell_type": "code",
   "execution_count": 44,
   "id": "b8d5f4ed",
   "metadata": {},
   "outputs": [],
   "source": [
    "def even_number(n):\n",
    "    for i in range(1,n+1):\n",
    "        if i%2==0:\n",
    "            yield i\n",
    "    "
   ]
  },
  {
   "cell_type": "code",
   "execution_count": 45,
   "id": "6dcadac6",
   "metadata": {},
   "outputs": [],
   "source": [
    "my_even_number=even_number(20)"
   ]
  },
  {
   "cell_type": "code",
   "execution_count": 46,
   "id": "d8b0b576",
   "metadata": {},
   "outputs": [
    {
     "name": "stdout",
     "output_type": "stream",
     "text": [
      "2\n",
      "4\n",
      "6\n",
      "8\n",
      "10\n",
      "12\n",
      "14\n",
      "16\n",
      "18\n",
      "20\n"
     ]
    }
   ],
   "source": [
    "for i in my_even_number:\n",
    "    print(i)"
   ]
  },
  {
   "cell_type": "markdown",
   "id": "b255db6b",
   "metadata": {},
   "source": [
    "Q5. Create a generator function for prime numbers less than 1000. Use the next() method to print the\n",
    "first 20 prime numbers."
   ]
  },
  {
   "cell_type": "code",
   "execution_count": 47,
   "id": "279bdda1",
   "metadata": {},
   "outputs": [],
   "source": [
    "my_list=range(1,1001)"
   ]
  },
  {
   "cell_type": "code",
   "execution_count": 48,
   "id": "42e3be0b",
   "metadata": {},
   "outputs": [
    {
     "data": {
      "text/plain": [
       "1000"
      ]
     },
     "execution_count": 48,
     "metadata": {},
     "output_type": "execute_result"
    }
   ],
   "source": [
    "len(my_list)"
   ]
  },
  {
   "cell_type": "code",
   "execution_count": 49,
   "id": "a9777639",
   "metadata": {},
   "outputs": [],
   "source": [
    "def prime_generator():\n",
    "    primes=[]\n",
    "    n=2\n",
    "    while(True):\n",
    "        if all(n%prime!=0 for prime in primes):\n",
    "            primes.append(n)\n",
    "            yield n\n",
    "        n+=1"
   ]
  },
  {
   "cell_type": "code",
   "execution_count": 50,
   "id": "8ad72e58",
   "metadata": {},
   "outputs": [
    {
     "name": "stdout",
     "output_type": "stream",
     "text": [
      "2\n",
      "3\n",
      "5\n",
      "7\n",
      "11\n",
      "13\n",
      "17\n",
      "19\n",
      "23\n",
      "29\n",
      "31\n",
      "37\n",
      "41\n",
      "43\n",
      "47\n",
      "53\n",
      "59\n",
      "61\n",
      "67\n",
      "71\n"
     ]
    }
   ],
   "source": [
    "my_generator=prime_generator()\n",
    "for i in range(20):\n",
    "    prime_numbers=next(my_generator)\n",
    "    print(prime_numbers)"
   ]
  },
  {
   "cell_type": "markdown",
   "id": "6af2764c",
   "metadata": {},
   "source": [
    ". Write a python program to print the first 10 Fibonacci numbers using a while loop.\n"
   ]
  },
  {
   "cell_type": "code",
   "execution_count": 51,
   "id": "2f933248",
   "metadata": {},
   "outputs": [
    {
     "name": "stdout",
     "output_type": "stream",
     "text": [
      "enter your number10\n",
      "0\n",
      "1\n",
      "1\n",
      "2\n",
      "3\n",
      "5\n",
      "8\n",
      "13\n",
      "21\n",
      "34\n"
     ]
    }
   ],
   "source": [
    "n=int(input(\"enter your number\"))\n",
    "a=0\n",
    "b=1\n",
    "counter=0\n",
    "while(counter<n):\n",
    "    print(a)\n",
    "    c=a+b\n",
    "    a=b\n",
    "    b=c\n",
    "    counter=counter+1"
   ]
  },
  {
   "cell_type": "markdown",
   "id": "06d0dcae",
   "metadata": {},
   "source": [
    "Q7. Write a List Comprehension to iterate through the given string: ‘pwskills’.\n",
    "\n",
    "Expected output: ['p', 'w', 's', 'k', 'i', 'l', 'l', 's'] "
   ]
  },
  {
   "cell_type": "code",
   "execution_count": 52,
   "id": "c2b85f4f",
   "metadata": {},
   "outputs": [
    {
     "data": {
      "text/plain": [
       "['p', 'w', 's', 'k', 'i', 'l', 'l', 's']"
      ]
     },
     "execution_count": 52,
     "metadata": {},
     "output_type": "execute_result"
    }
   ],
   "source": [
    "s='pwskills'\n",
    "[i for i in s]"
   ]
  },
  {
   "cell_type": "markdown",
   "id": "47f9aa15",
   "metadata": {},
   "source": [
    "Q8. Write a python program to check whether a given number is Palindrome or not using a while loop."
   ]
  },
  {
   "cell_type": "code",
   "execution_count": 58,
   "id": "1bae29bd",
   "metadata": {},
   "outputs": [
    {
     "name": "stdout",
     "output_type": "stream",
     "text": [
      "99 is a palindrome.\n"
     ]
    }
   ],
   "source": [
    "def palindrome(number):\n",
    "    origanal_number=number\n",
    "    reversed_number=0\n",
    "    while(number!=0):\n",
    "        remainder=number%10\n",
    "        reversed_number=(reversed_number*10)+remainder\n",
    "        number//=10\n",
    "    if reversed_number== origanal_number:\n",
    "        return True\n",
    "    else:\n",
    "        return False\n",
    "number=99\n",
    "if palindrome(number):\n",
    "    print(f\"{number} is a palindrome.\")\n",
    "else:\n",
    "    print(f\"{number} is not a palindrome.\")\n",
    "        \n",
    "    "
   ]
  },
  {
   "cell_type": "markdown",
   "id": "4068b55f",
   "metadata": {},
   "source": [
    "Q9. Write a code to print odd numbers from 1 to 100 using list comprehension."
   ]
  },
  {
   "cell_type": "code",
   "execution_count": 59,
   "id": "8024a0f1",
   "metadata": {},
   "outputs": [
    {
     "data": {
      "text/plain": [
       "range(1, 101)"
      ]
     },
     "execution_count": 59,
     "metadata": {},
     "output_type": "execute_result"
    }
   ],
   "source": [
    "list=range(1,101)\n",
    "list"
   ]
  },
  {
   "cell_type": "code",
   "execution_count": 60,
   "id": "b0cfb155",
   "metadata": {},
   "outputs": [
    {
     "data": {
      "text/plain": [
       "100"
      ]
     },
     "execution_count": 60,
     "metadata": {},
     "output_type": "execute_result"
    }
   ],
   "source": [
    "len(list)"
   ]
  },
  {
   "cell_type": "code",
   "execution_count": 61,
   "id": "bb6ef7db",
   "metadata": {},
   "outputs": [
    {
     "data": {
      "text/plain": [
       "[1,\n",
       " 3,\n",
       " 5,\n",
       " 7,\n",
       " 9,\n",
       " 11,\n",
       " 13,\n",
       " 15,\n",
       " 17,\n",
       " 19,\n",
       " 21,\n",
       " 23,\n",
       " 25,\n",
       " 27,\n",
       " 29,\n",
       " 31,\n",
       " 33,\n",
       " 35,\n",
       " 37,\n",
       " 39,\n",
       " 41,\n",
       " 43,\n",
       " 45,\n",
       " 47,\n",
       " 49,\n",
       " 51,\n",
       " 53,\n",
       " 55,\n",
       " 57,\n",
       " 59,\n",
       " 61,\n",
       " 63,\n",
       " 65,\n",
       " 67,\n",
       " 69,\n",
       " 71,\n",
       " 73,\n",
       " 75,\n",
       " 77,\n",
       " 79,\n",
       " 81,\n",
       " 83,\n",
       " 85,\n",
       " 87,\n",
       " 89,\n",
       " 91,\n",
       " 93,\n",
       " 95,\n",
       " 97,\n",
       " 99]"
      ]
     },
     "execution_count": 61,
     "metadata": {},
     "output_type": "execute_result"
    }
   ],
   "source": [
    "[i for i in range(len(list)) if (~i%2==0)]"
   ]
  },
  {
   "cell_type": "code",
   "execution_count": null,
   "id": "f24fba72",
   "metadata": {},
   "outputs": [],
   "source": []
  },
  {
   "cell_type": "code",
   "execution_count": null,
   "id": "a2e11fa1",
   "metadata": {},
   "outputs": [],
   "source": []
  }
 ],
 "metadata": {
  "kernelspec": {
   "display_name": "Python 3 (ipykernel)",
   "language": "python",
   "name": "python3"
  },
  "language_info": {
   "codemirror_mode": {
    "name": "ipython",
    "version": 3
   },
   "file_extension": ".py",
   "mimetype": "text/x-python",
   "name": "python",
   "nbconvert_exporter": "python",
   "pygments_lexer": "ipython3",
   "version": "3.9.12"
  }
 },
 "nbformat": 4,
 "nbformat_minor": 5
}
