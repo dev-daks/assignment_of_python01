{
 "cells": [
  {
   "cell_type": "markdown",
   "id": "4e858cde",
   "metadata": {},
   "source": [
    "Q1, Create a vehicle class with an init method having instance variables as name_of_vehicle, max_speed\n",
    "and average_of_vehicle."
   ]
  },
  {
   "cell_type": "code",
   "execution_count": 21,
   "id": "e3538ad4",
   "metadata": {},
   "outputs": [],
   "source": [
    "class vehicle:\n",
    "    def __init__(self,name_of_vehicle,max_speed,average_of_vehicle):\n",
    "        self.name_of_vehicle=name_of_vehicle\n",
    "        self.max_speed=max_speed\n",
    "        self.average_of_vehicle=average_of_vehicle\n",
    "        \n",
    "class car(vehicle):\n",
    "        def seating_capacity(self,capacity):\n",
    "            return f\"The {self.name_of_vehicle} has a seating capacity of {capacity} people.\"\n",
    "        "
   ]
  },
  {
   "cell_type": "markdown",
   "id": "6ad15d4a",
   "metadata": {},
   "source": [
    "Q2. Create a child class car from the vehicle class created in Que 1, which will inherit the vehicle class.\n",
    "Create a method named seating_capacity which takes capacity as an argument and returns the name of\n",
    "the vehicle and its seating capacity."
   ]
  },
  {
   "cell_type": "code",
   "execution_count": 27,
   "id": "d2777c68",
   "metadata": {},
   "outputs": [],
   "source": [
    "vehicle=vehicle(\"toyota\",300,15)"
   ]
  },
  {
   "cell_type": "code",
   "execution_count": 28,
   "id": "66e42bd4",
   "metadata": {},
   "outputs": [
    {
     "data": {
      "text/plain": [
       "300"
      ]
     },
     "execution_count": 28,
     "metadata": {},
     "output_type": "execute_result"
    }
   ],
   "source": [
    "vehicle.max_speed"
   ]
  },
  {
   "cell_type": "code",
   "execution_count": 26,
   "id": "facc7f72",
   "metadata": {},
   "outputs": [
    {
     "data": {
      "text/plain": [
       "'The toyota has a seating capacity of 12 people.'"
      ]
     },
     "execution_count": 26,
     "metadata": {},
     "output_type": "execute_result"
    }
   ],
   "source": [
    "car.seating_capacity(12)"
   ]
  },
  {
   "cell_type": "markdown",
   "id": "cd543eda",
   "metadata": {},
   "source": [
    "Q3. What is multiple inheritance? Write a python code to demonstrate multiple inheritance."
   ]
  },
  {
   "cell_type": "raw",
   "id": "6ae190bb",
   "metadata": {},
   "source": [
    "Multiple inheritance is a feature in object-oriented programming where a class can inherit properties and behaviors from multiple parent classes. In Python, multiple inheritance is supported, allowing a class to inherit from more than one base class. This enables the subclass to combine features and characteristics from multiple classes."
   ]
  },
  {
   "cell_type": "code",
   "execution_count": 45,
   "id": "d2403c7f",
   "metadata": {},
   "outputs": [],
   "source": [
    "class company:\n",
    "    def __init__(self,name,total_employee,department):\n",
    "        self.ane=name\n",
    "        self.total_employee=total_employee\n",
    "        self.department=department\n",
    "    def dress_code(self,light_blue):\n",
    "        return f\"{light_blue} employee wearing dress\"\n",
    "class floor:\n",
    "    def datascience_department(self):\n",
    "        return f'{self.dapartment},the department of data_scince is on the 3rd floor'\n",
    "class canteen:\n",
    "    def name_of_canteen(self):\n",
    "        return 'the name of canteen on the 3rd floor is chai desi'\n",
    "class pwskills(company,canteen,floor):\n",
    "    def good_work(self):\n",
    "        return 'the teaching style is very good and effective'\n",
    "        "
   ]
  },
  {
   "cell_type": "code",
   "execution_count": 46,
   "id": "a029837d",
   "metadata": {},
   "outputs": [],
   "source": [
    "pwskills=pwskills(\"physics_wallah\",100,\"data_science\")"
   ]
  },
  {
   "cell_type": "code",
   "execution_count": 47,
   "id": "9263b5c9",
   "metadata": {},
   "outputs": [
    {
     "data": {
      "text/plain": [
       "'the name of canteen on the 3rd floor is chai desi'"
      ]
     },
     "execution_count": 47,
     "metadata": {},
     "output_type": "execute_result"
    }
   ],
   "source": [
    "pwskills.name_of_canteen()"
   ]
  },
  {
   "cell_type": "markdown",
   "id": "0ffe636f",
   "metadata": {},
   "source": [
    "Q4. What are getter and setter in python? Create a class and create a getter and a setter method in this\n",
    "class."
   ]
  },
  {
   "cell_type": "code",
   "execution_count": 61,
   "id": "911b5814",
   "metadata": {},
   "outputs": [],
   "source": [
    "class bank_account:\n",
    "    def __init__(self,balance):\n",
    "        self.__balance=balance\n",
    "    def deposit(self,amount):\n",
    "        self.__balance=self.__balance+amount\n",
    "        \n",
    "    def withdraw(self,amount):\n",
    "        if self.__balance>=amount:\n",
    "            self.__balance=self.__balance-amount\n",
    "            return True\n",
    "        else:\n",
    "            False\n",
    "    def get_balance(self):\n",
    "        return self.__balance"
   ]
  },
  {
   "cell_type": "code",
   "execution_count": 62,
   "id": "03763956",
   "metadata": {},
   "outputs": [],
   "source": [
    "ba=bank_account(6000)"
   ]
  },
  {
   "cell_type": "code",
   "execution_count": 63,
   "id": "f79c268e",
   "metadata": {},
   "outputs": [
    {
     "data": {
      "text/plain": [
       "6000"
      ]
     },
     "execution_count": 63,
     "metadata": {},
     "output_type": "execute_result"
    }
   ],
   "source": [
    "ba.get_balance()"
   ]
  },
  {
   "cell_type": "code",
   "execution_count": 64,
   "id": "e43c4dbd",
   "metadata": {},
   "outputs": [],
   "source": [
    "ba.deposit(1000)"
   ]
  },
  {
   "cell_type": "code",
   "execution_count": 65,
   "id": "cbe31659",
   "metadata": {},
   "outputs": [
    {
     "data": {
      "text/plain": [
       "7000"
      ]
     },
     "execution_count": 65,
     "metadata": {},
     "output_type": "execute_result"
    }
   ],
   "source": [
    "ba.get_balance()"
   ]
  },
  {
   "cell_type": "code",
   "execution_count": 68,
   "id": "661fc463",
   "metadata": {},
   "outputs": [
    {
     "data": {
      "text/plain": [
       "True"
      ]
     },
     "execution_count": 68,
     "metadata": {},
     "output_type": "execute_result"
    }
   ],
   "source": [
    "ba.withdraw(6000)"
   ]
  },
  {
   "cell_type": "code",
   "execution_count": 69,
   "id": "afb80bea",
   "metadata": {},
   "outputs": [
    {
     "data": {
      "text/plain": [
       "1000"
      ]
     },
     "execution_count": 69,
     "metadata": {},
     "output_type": "execute_result"
    }
   ],
   "source": [
    "ba.get_balance()"
   ]
  },
  {
   "cell_type": "markdown",
   "id": "73ec0716",
   "metadata": {},
   "source": [
    "Q5.What is method overriding in python? Write a python code to demonstrate method overriding."
   ]
  },
  {
   "cell_type": "raw",
   "id": "efa2cdcd",
   "metadata": {},
   "source": [
    "# When a method in the subclass has the same name and parameters as a method in the superclass, the method in the subclass overrides the method in the superclass."
   ]
  },
  {
   "cell_type": "code",
   "execution_count": 75,
   "id": "f3814810",
   "metadata": {},
   "outputs": [],
   "source": [
    "class Animal:\n",
    "    def make_sound(self):\n",
    "        print(\"Generic animal sound\")\n",
    "\n",
    "\n",
    "class lion(Animal):\n",
    "    def make_sound(self):\n",
    "        print(\"roar\")\n",
    "\n",
    "\n",
    "class monkey(Animal):\n",
    "    def make_sound(self):\n",
    "        print(\"khi__khi__\")"
   ]
  },
  {
   "cell_type": "code",
   "execution_count": 76,
   "id": "b3f3e017",
   "metadata": {},
   "outputs": [],
   "source": [
    "lion=lion()"
   ]
  },
  {
   "cell_type": "code",
   "execution_count": 77,
   "id": "b319e9f5",
   "metadata": {},
   "outputs": [],
   "source": [
    "monkey=monkey()"
   ]
  },
  {
   "cell_type": "code",
   "execution_count": 78,
   "id": "575c714a",
   "metadata": {},
   "outputs": [
    {
     "name": "stdout",
     "output_type": "stream",
     "text": [
      "roar\n"
     ]
    }
   ],
   "source": [
    "lion.make_sound()"
   ]
  },
  {
   "cell_type": "code",
   "execution_count": 79,
   "id": "e5ffeae7",
   "metadata": {},
   "outputs": [
    {
     "name": "stdout",
     "output_type": "stream",
     "text": [
      "khi__khi__\n"
     ]
    }
   ],
   "source": [
    "monkey.make_sound()"
   ]
  },
  {
   "cell_type": "code",
   "execution_count": null,
   "id": "3f3087ae",
   "metadata": {},
   "outputs": [],
   "source": []
  }
 ],
 "metadata": {
  "kernelspec": {
   "display_name": "Python 3 (ipykernel)",
   "language": "python",
   "name": "python3"
  },
  "language_info": {
   "codemirror_mode": {
    "name": "ipython",
    "version": 3
   },
   "file_extension": ".py",
   "mimetype": "text/x-python",
   "name": "python",
   "nbconvert_exporter": "python",
   "pygments_lexer": "ipython3",
   "version": "3.9.12"
  }
 },
 "nbformat": 4,
 "nbformat_minor": 5
}
