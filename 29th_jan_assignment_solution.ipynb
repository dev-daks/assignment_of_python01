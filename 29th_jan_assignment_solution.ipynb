{
 "cells": [
  {
   "cell_type": "markdown",
   "id": "9343dc0b",
   "metadata": {},
   "source": [
    "Q1.who developed python programming language ?"
   ]
  },
  {
   "cell_type": "raw",
   "id": "c47793db",
   "metadata": {},
   "source": [
    "Python programming language was developed by Guido van Rossum. He created Python in the late 1980s and released the first version, Python 0.9.0, in 1991. Guido van Rossum is a Dutch programmer and is often referred to as the \"Benevolent Dictator for Life\" (BDFL) of Python, as he led the language's development and made key decisions regarding its design and features for many years. However, in 2018, Guido van Rossum stepped down as the BDFL, and the Python language is now maintained by the Python community through the Python Software Foundation (PSF)."
   ]
  },
  {
   "cell_type": "markdown",
   "id": "cc494821",
   "metadata": {},
   "source": [
    "Q2.which type of programming does python support ?"
   ]
  },
  {
   "cell_type": "raw",
   "id": "d7699ca5",
   "metadata": {},
   "source": [
    "Python is a versatile programming language that supports various programming paradigms. Here are the main programming paradigms supported by Python:\n",
    "\n",
    "Procedural Programming: Python allows you to write programs using procedural programming techniques, which involve organizing code into functions or procedures that perform specific tasks.\n",
    "\n",
    "Object-Oriented Programming (OOP): Python has robust support for object-oriented programming. You can define classes to create objects that encapsulate data and behavior, allowing for code reuse and modularity. Python supports inheritance, polymorphism, and other OOP concepts.\n",
    "\n",
    "Functional Programming: Python supports functional programming concepts, such as treating functions as first-class citizens, higher-order functions, and the ability to use functions as arguments or return values. While not purely functional, Python provides functional programming tools and libraries.\n",
    "Imperative Programming: Python allows imperative programming, where you write code as a series of statements that change the program's state. Imperative programming emphasizes how to achieve the desired result step by step.\n",
    "\n",
    "Scripting: Python is often used as a scripting language, enabling you to write scripts to automate tasks or execute commands on a computer system.\n",
    "\n",
    "Concurrent Programming: Python provides various modules and libraries to support concurrent programming, including multi-threading, multiprocessing, and asynchronous programming with async/await syntax.\n",
    "\n",
    "Metaprogramming: Python's dynamic nature and rich introspection capabilities enable metaprogramming, where you can write code that manipulates or generates other code at runtime."
   ]
  },
  {
   "cell_type": "markdown",
   "id": "f10e6ae6",
   "metadata": {},
   "source": [
    "Q3.is python class sensitive when dealing with identifiers ?"
   ]
  },
  {
   "cell_type": "raw",
   "id": "eb60d8c2",
   "metadata": {},
   "source": [
    "No, Python is not case-sensitive when it comes to identifiers like variable names, function names, or class names. In other words, Python treats uppercase and lowercase letters as distinct characters, so \"myVariable,\" \"myvariable,\" and \"MyVariable\" are considered different identifiers.\n",
    "\n",
    "However, it's important to note that Python's naming conventions suggest using lowercase letters and underscores for most identifiers (e.g., variable_name, function_name). This convention is known as \"snake_case.\" On the other hand, class names typically follow the convention of using capitalization for each word, known as \"PascalCase\" or \"CamelCase\" (e.g., ClassName)"
   ]
  },
  {
   "cell_type": "markdown",
   "id": "336a9060",
   "metadata": {},
   "source": [
    "Q4: what is the correct extension of the python file ?"
   ]
  },
  {
   "cell_type": "raw",
   "id": "66536a1c",
   "metadata": {},
   "source": [
    "The correct extension for Python files is \".py\". When you save a Python script, you should give it a file name with the \".py\" extension. For example, \"my_script.py\" or \"hello_world.py\".\n",
    "\n",
    "Using the \".py\" extension is not mandatory for Python scripts to run, but it is a widely recognized convention and helps indicate that the file contains Python code. It also allows various tools and IDEs to recognize and handle Python files appropriately.\n",
    "\n",
    "\n",
    "\n",
    "\n"
   ]
  },
  {
   "cell_type": "markdown",
   "id": "b99f309b",
   "metadata": {},
   "source": [
    "Q5.is python code compiled or interpreted ?"
   ]
  },
  {
   "cell_type": "raw",
   "id": "895e4f5c",
   "metadata": {},
   "source": [
    "Python is an interpreted programming language. When you write Python code, it is not directly compiled into machine code like languages such as C or C++. Instead, Python source code is executed by an interpreter.\n",
    "\n",
    "Here's a simplified explanation of how Python code is executed:\n",
    "\n",
    "1.The Python interpreter reads your Python source code line by line.\n",
    "2.It converts each line into intermediate bytecode instructions.\n",
    "3.The bytecode is executed by the Python Virtual Machine (PVM), 4.which is part of the Python interpreter.\n",
    "5.The PVM interprets the bytecode and executes the corresponding operations."
   ]
  },
  {
   "cell_type": "markdown",
   "id": "3b354c0d",
   "metadata": {},
   "source": [
    "Q6.name a few blocks of code used to define python language?"
   ]
  },
  {
   "cell_type": "raw",
   "id": "74cd8fa9",
   "metadata": {},
   "source": [
    "In Python, code blocks are defined by indentation. The following are some common blocks of code used in Python:\n",
    "1.def my_function():\n",
    "        pass\n",
    "2.if condition:\n",
    "        pass\n",
    "3.while condition:\n",
    "        pass\n",
    "4.for condition :\n",
    "        pass"
   ]
  },
  {
   "cell_type": "markdown",
   "id": "8c9a2f8a",
   "metadata": {},
   "source": [
    "Q7.state a character used to give a single line comments in python"
   ]
  },
  {
   "cell_type": "raw",
   "id": "ff9364d1",
   "metadata": {},
   "source": [
    "n Python, the character \"#\" (hash or pound sign) is used to give single-line comments. Any text that follows the \"#\" character on the same line is considered a comment and is ignored by the Python interpreter. For example:"
   ]
  },
  {
   "cell_type": "code",
   "execution_count": 3,
   "id": "39286406",
   "metadata": {},
   "outputs": [
    {
     "name": "stdout",
     "output_type": "stream",
     "text": [
      "this is my first program\n"
     ]
    }
   ],
   "source": [
    "# this is the print functon for showing the result on console\n",
    "print(\"this is my first program\")"
   ]
  },
  {
   "cell_type": "markdown",
   "id": "11cab461",
   "metadata": {},
   "source": [
    "Q8.mention functions which can help us to find the version of python that we currently working on.\n"
   ]
  },
  {
   "cell_type": "raw",
   "id": "a8205203",
   "metadata": {},
   "source": [
    "ans :sys.version: This function returns a string containing the version number of the Python interpreter. It provides detailed information about the version, including build number and compiler information. Here's an example:\n",
    "    "
   ]
  },
  {
   "cell_type": "code",
   "execution_count": 4,
   "id": "24da830f",
   "metadata": {},
   "outputs": [
    {
     "name": "stdout",
     "output_type": "stream",
     "text": [
      "3.9.12 (main, Apr  4 2022, 05:22:27) [MSC v.1916 64 bit (AMD64)]\n"
     ]
    }
   ],
   "source": [
    "import sys\n",
    "print(sys.version)"
   ]
  },
  {
   "cell_type": "code",
   "execution_count": 5,
   "id": "0c39274e",
   "metadata": {},
   "outputs": [
    {
     "data": {
      "text/plain": [
       "sys.version_info(major=3, minor=9, micro=12, releaselevel='final', serial=0)"
      ]
     },
     "execution_count": 5,
     "metadata": {},
     "output_type": "execute_result"
    }
   ],
   "source": [
    "sys.version_info"
   ]
  },
  {
   "cell_type": "code",
   "execution_count": 6,
   "id": "5bdec4fc",
   "metadata": {},
   "outputs": [],
   "source": [
    "import platform"
   ]
  },
  {
   "cell_type": "code",
   "execution_count": 8,
   "id": "940c2686",
   "metadata": {},
   "outputs": [
    {
     "data": {
      "text/plain": [
       "'3.9.12'"
      ]
     },
     "execution_count": 8,
     "metadata": {},
     "output_type": "execute_result"
    }
   ],
   "source": [
    "platform.python_version()"
   ]
  },
  {
   "cell_type": "markdown",
   "id": "30423a7c",
   "metadata": {},
   "source": [
    "Q9.python supports the creation of anonymous functions at a runtime using construct called ________"
   ]
  },
  {
   "cell_type": "raw",
   "id": "4287fafd",
   "metadata": {},
   "source": [
    "Python supports the creation of anonymous functions at runtime using a construct called \"lambda.\" The lambda function allows you to define small, anonymous functions without a formal function definition. It is particularly useful in situations where you need a simple function for a short duration and don't want to define a full-fledged function using the \"def\" keyword."
   ]
  },
  {
   "cell_type": "code",
   "execution_count": 10,
   "id": "683aea08",
   "metadata": {},
   "outputs": [],
   "source": [
    "#example\n",
    "multiply=lambda x,y:x*y"
   ]
  },
  {
   "cell_type": "code",
   "execution_count": 11,
   "id": "05e139d6",
   "metadata": {},
   "outputs": [
    {
     "data": {
      "text/plain": [
       "12"
      ]
     },
     "execution_count": 11,
     "metadata": {},
     "output_type": "execute_result"
    }
   ],
   "source": [
    "multiply(3,4)"
   ]
  },
  {
   "cell_type": "markdown",
   "id": "a388436e",
   "metadata": {},
   "source": [
    "Q10.what does pip stand for python"
   ]
  },
  {
   "cell_type": "raw",
   "id": "25d55b09",
   "metadata": {},
   "source": [
    "PIP stands for \"Pip Installs Packages\" or \"Pip Installs Python.\" It is a package management system used in Python to install, manage, and uninstall software packages or libraries written in Python.\n",
    "\n",
    "Pip is a command-line tool that allows you to search for, download, and install Python packages from the Python Package Index (PyPI), which is a repository of Python packages maintained by the Python community. Pip simplifies the process of installing external libraries and dependencies, making it easier to work with third-party code in Python projects."
   ]
  },
  {
   "cell_type": "markdown",
   "id": "fa469a88",
   "metadata": {},
   "source": [
    "Q11.mention a few built-in functions in python"
   ]
  },
  {
   "cell_type": "raw",
   "id": "3ae3393e",
   "metadata": {},
   "source": [
    "print(): Outputs text or variables to the console.\n",
    "len(): Returns the length of an object, such as a string, list, or tuple.\n",
    "type(): Returns the type of an object.\n",
    "input(): Accepts user input from the console.\n",
    "range(): Generates a sequence of numbers."
   ]
  },
  {
   "cell_type": "markdown",
   "id": "13487cac",
   "metadata": {},
   "source": [
    "Q12.what is the maximum possible length of an identifier in python?"
   ]
  },
  {
   "cell_type": "code",
   "execution_count": 12,
   "id": "0ca624b8",
   "metadata": {},
   "outputs": [
    {
     "name": "stdout",
     "output_type": "stream",
     "text": [
      "42\n"
     ]
    }
   ],
   "source": [
    "very_long_identifier_name_that_exceeds_maximum_length_of_python_identifiers = 42\n",
    "print(very_long_identifier_name_that_exceeds_maximum_length_of_python_identifiers)\n"
   ]
  },
  {
   "cell_type": "raw",
   "id": "411084b1",
   "metadata": {},
   "source": [
    "the maximum possible length of an identifier is implementation-dependent. According to the Python language reference, the length limit for identifiers is not specified explicitly. However, in practical terms, Python imposes a maximum limit on the length of identifiers based on the limitations of the underlying system.\n",
    "\n",
    "For most implementations of Python, including CPython (the reference implementation), the maximum length of an identifier is typically 255 char"
   ]
  },
  {
   "cell_type": "markdown",
   "id": "5221d49d",
   "metadata": {},
   "source": [
    "Q13.what are the benefits of using python"
   ]
  },
  {
   "cell_type": "markdown",
   "id": "c43876cd",
   "metadata": {},
   "source": [
    "Readability and Simplicity: Python's syntax is designed to be easy to read and understand, emphasizing code readability and reducing the cost of program maintenance. It uses indentation and a clean, English-like syntax, making it highly readable even for non-programmers.\n",
    "\n",
    "Ease of Learning: Python has a gentle learning curve, making it an ideal language for beginners. Its simplicity and readability make it easier to grasp fundamental programming concepts and build a solid foundation for further learning.\n",
    "\n",
    "Large and Active Community: Python has a vast and active community of developers, enthusiasts, and contributors. This means there is a wealth of resources, libraries, frameworks, and tools available to support and enhance Python development. The community also fosters collaboration, knowledge sharing, and support through forums, online communities, and conferences.\n",
    "\n",
    "Cross-platform Compatibility: Python is a cross-platform language, meaning it runs on multiple operating systems such as Windows, macOS, and Linux. Python code can be written once and executed on different platforms without the need for significant modifications.\n",
    "\n",
    "Versatility and Flexibility: Python is a versatile language that can be used for a wide range of applications, including web development, scientific computing, data analysis, machine learning, artificial intelligence, automation, scripting, and more. It offers extensive libraries and frameworks specific to different domains, allowing developers to leverage existing tools and resources.\n",
    "\n",
    "Extensive Standard Library: Python comes with a comprehensive standard library that provides a wide range of modules and functionalities, including file manipulation, networking, data processing, and more. The standard library reduces the need for external dependencies and facilitates rapid development.\n",
    "\n",
    "Integration and Extensibility: Python can easily integrate with other programming languages and technologies, making it a versatile choice for building complex systems. It supports integration with C, C++, Java, and other languages, allowing developers to leverage existing codebases and take advantage of high-performance libraries.\n",
    "\n",
    "Productivity and Rapid Development: Python's simplicity, readability, and extensive libraries enable developers to write code more efficiently and effectively. It promotes rapid development by reducing the time and effort required to prototype, test, and deploy applications.\n",
    "\n",
    "__"
   ]
  },
  {
   "cell_type": "markdown",
   "id": "1b4e641a",
   "metadata": {},
   "source": [
    "Q how is memory managed in python"
   ]
  },
  {
   "cell_type": "raw",
   "id": "f9bc2d72",
   "metadata": {},
   "source": [
    "In Python, memory management is handled automatically through a combination of techniques, including reference counting and a garbage collector."
   ]
  },
  {
   "cell_type": "raw",
   "id": "40f07ee0",
   "metadata": {},
   "source": [
    "# Reference Counting: Python uses reference counting as its primary memory management technique. Every object in Python has a reference count associated with it, which keeps track of the number of references to that object. When an object's reference count drops to zero, meaning there are no more references to it, the memory occupied by the object is freed immediately.\n",
    "\n",
    "Garbage Collector: In addition to reference counting, Python employs a garbage collector to deal with more complex memory management scenarios. The garbage collector is responsible for detecting and freeing objects that are no longer reachable or have circular references (where a group of objects reference each other, but are not reachable from the rest of the program). The garbage collector periodically identifies and collects these unreachable objects, freeing up their memory.\n",
    "\n",
    "Memory Allocation: Python manages memory allocation for objects dynamically. When an object is created, Python determines the appropriate size of memory to allocate based on the object's type and stores the object's data in that allocated memory space. The memory is then released when the object is no longer needed.\n",
    "\n",
    "Memory Optimization: Python provides memory optimization techniques, such as object pooling and recycling, to minimize the overhead of memory allocation and deallocation. For example, small integers and string literals are interned, meaning they are reused to avoid unnecessary memory allocation.\n"
   ]
  },
  {
   "cell_type": "markdown",
   "id": "7aafd21d",
   "metadata": {},
   "source": [
    "Q15.how to install python on windows and set path variables ?"
   ]
  },
  {
   "cell_type": "raw",
   "id": "6d8887c0",
   "metadata": {},
   "source": [
    "To install Python on Windows and set up the necessary path variables, you can follow these steps:\n",
    "\n",
    "Download Python: Visit the official Python website at https://www.python.org and navigate to the \"Downloads\" section. Choose the latest stable version of Python for Windows and download the installer that matches your system architecture (32-bit or 64-bit).\n",
    "\n",
    "Run the Installer: Locate the downloaded installer file and double-click on it to run it. Make sure to check the box that says \"Add Python to PATH\" during the installation process. This step will automatically set up the necessary environment variables.\n",
    "\n",
    "Customize Installation (Optional): During the installation, you can choose to customize the installation path or components if desired. However, the default options are typically suitable for most users.\n",
    "\n",
    "Verify Installation: Open the Command Prompt by pressing the Windows key + R, typing \"cmd\" in the Run dialog, and pressing Enter. In the Command Prompt, type python --version and press Enter. You should see the version number of the installed Python.\n",
    "\n",
    "Set Path Variables (Optional): If the Python executable is not automatically added to the system's PATH variable, you can add it manually to make Python accessible from any directory in the Command Prompt. Here's how:\n",
    "\n",
    "Open the Control Panel and go to \"System and Security\" -> \"System\" -> \"Advanced system settings\".\n",
    "In the System Properties window, click on the \"Environment Variables\" button.\n",
    "In the \"User Variables\" section, select \"Path\" and click on the \"Edit\" button.\n",
    "Add the following path to the list of paths: C:\\PythonXX\\ (Replace XX with the specific version number, e.g., C:\\Python39\\ for Python 3.9).\n",
    "Click \"OK\" to save the changes.\n",
    "Verify PATH Configuration: Open a new Command Prompt window and type python --version again. It should display the version number without any errors, confirming that the PATH variable has been set correctly."
   ]
  },
  {
   "cell_type": "markdown",
   "id": "54a543a4",
   "metadata": {},
   "source": [
    "Q16.is indentation required in  python"
   ]
  },
  {
   "cell_type": "raw",
   "id": "4e635e38",
   "metadata": {},
   "source": [
    "Yes, indentation is required in Python. Unlike many other programming languages that use braces or other symbols to define blocks of code, Python uses indentation to indicate the structure and nesting of code blocks.\n",
    "\n",
    "Indentation is essential in Python because it defines the scope and hierarchy of statements within control structures like loops, conditionals, and functions. It is a fundamental part of Python's syntax and plays a crucial role in determining the flow and execution of the code."
   ]
  },
  {
   "cell_type": "code",
   "execution_count": 17,
   "id": "bd92661f",
   "metadata": {},
   "outputs": [
    {
     "name": "stdout",
     "output_type": "stream",
     "text": [
      "1\n",
      "3\n",
      "6\n",
      "10\n",
      "15\n",
      "21\n",
      "28\n",
      "36\n",
      "45\n"
     ]
    }
   ],
   "source": [
    "#example\n",
    "sum=0\n",
    "counter=1\n",
    "while(counter<10):\n",
    "    sum=sum+counter\n",
    "    counter+=1\n",
    "    print(sum)"
   ]
  },
  {
   "cell_type": "code",
   "execution_count": null,
   "id": "b5030d34",
   "metadata": {},
   "outputs": [],
   "source": []
  }
 ],
 "metadata": {
  "kernelspec": {
   "display_name": "Python 3 (ipykernel)",
   "language": "python",
   "name": "python3"
  },
  "language_info": {
   "codemirror_mode": {
    "name": "ipython",
    "version": 3
   },
   "file_extension": ".py",
   "mimetype": "text/x-python",
   "name": "python",
   "nbconvert_exporter": "python",
   "pygments_lexer": "ipython3",
   "version": "3.9.12"
  }
 },
 "nbformat": 4,
 "nbformat_minor": 5
}
