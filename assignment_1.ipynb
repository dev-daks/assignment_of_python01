{
 "cells": [
  {
   "cell_type": "markdown",
   "id": "ec19ee9b",
   "metadata": {},
   "source": [
    "#Q1. Explain with an example each when to use a for loop and a while loop."
   ]
  },
  {
   "cell_type": "markdown",
   "id": "ebfeec94",
   "metadata": {},
   "source": [
    "Q2.Write a python program to print the sum and product of the first 10 natural numbers using for and while loop."
   ]
  },
  {
   "cell_type": "code",
   "execution_count": 1,
   "id": "09c45661",
   "metadata": {},
   "outputs": [
    {
     "data": {
      "text/plain": [
       "55"
      ]
     },
     "execution_count": 1,
     "metadata": {},
     "output_type": "execute_result"
    }
   ],
   "source": [
    "sum=0\n",
    "for i in range(1,11):\n",
    "    sum=sum+i\n",
    "sum\n"
   ]
  },
  {
   "cell_type": "code",
   "execution_count": 2,
   "id": "88e373e0",
   "metadata": {},
   "outputs": [
    {
     "data": {
      "text/plain": [
       "3628800"
      ]
     },
     "execution_count": 2,
     "metadata": {},
     "output_type": "execute_result"
    }
   ],
   "source": [
    "product=1\n",
    "for i in range(1,11):\n",
    "    product=i*product\n",
    "product\n"
   ]
  },
  {
   "cell_type": "markdown",
   "id": "34b30e01",
   "metadata": {},
   "source": [
    "using while loop"
   ]
  },
  {
   "cell_type": "code",
   "execution_count": 3,
   "id": "10f1c203",
   "metadata": {},
   "outputs": [
    {
     "data": {
      "text/plain": [
       "55"
      ]
     },
     "execution_count": 3,
     "metadata": {},
     "output_type": "execute_result"
    }
   ],
   "source": [
    "sum=0\n",
    "counter=1\n",
    "while(counter<=10):\n",
    "    sum=sum+counter\n",
    "    counter+=1\n",
    "sum"
   ]
  },
  {
   "cell_type": "code",
   "execution_count": 4,
   "id": "f7ecd2d1",
   "metadata": {},
   "outputs": [
    {
     "data": {
      "text/plain": [
       "3628800"
      ]
     },
     "execution_count": 4,
     "metadata": {},
     "output_type": "execute_result"
    }
   ],
   "source": [
    "product=1\n",
    "counter=1\n",
    "while(counter<=10):\n",
    "    product=product*counter\n",
    "    counter+=1\n",
    "product"
   ]
  },
  {
   "cell_type": "code",
   "execution_count": 5,
   "id": "5be8a013",
   "metadata": {},
   "outputs": [
    {
     "name": "stdout",
     "output_type": "stream",
     "text": [
      "55\n",
      "3628800\n"
     ]
    }
   ],
   "source": [
    "sum=0\n",
    "product=1\n",
    "for i in range(1,11):\n",
    "    sum=sum+i\n",
    "    product=product*i\n",
    "print(sum)\n",
    "print(product)"
   ]
  },
  {
   "cell_type": "code",
   "execution_count": 6,
   "id": "c90db7d9",
   "metadata": {},
   "outputs": [
    {
     "name": "stdout",
     "output_type": "stream",
     "text": [
      "55\n",
      "3628800\n"
     ]
    }
   ],
   "source": [
    "product=1\n",
    "counter=1\n",
    "sum=0\n",
    "while(counter<=10):\n",
    "    sum=sum+counter\n",
    "    product=product*counter\n",
    "    counter+=1\n",
    "print(sum)\n",
    "print(product)"
   ]
  },
  {
   "cell_type": "markdown",
   "id": "029bdfaa",
   "metadata": {},
   "source": [
    "Q3. Create a python program to compute the electricity bill for a household.The per-unit charges in rupees are as follows: For the first 100 units, the user will be charged Rs. 4.5 per\n",
    "unit, for the next 100 units, the user will be charged Rs. 6 per unit, and for the next 100 units, the user will\n",
    "be charged Rs. 10 per unit, After 300 units and above the user will be charged Rs. 20 per unit."
   ]
  },
  {
   "cell_type": "code",
   "execution_count": 51,
   "id": "8932c186",
   "metadata": {},
   "outputs": [
    {
     "name": "stdout",
     "output_type": "stream",
     "text": [
      "enter the units310\n",
      "the bill of above 300 units is: 2250.0\n"
     ]
    }
   ],
   "source": [
    "units=int(input(\"enter the units\"))\n",
    "if (units<=100):\n",
    "    bill=units*4.5\n",
    "    print(\"the bill of 100 units is:\",bill)\n",
    "elif(units<=200):\n",
    "    bill=100 * 4.5 + (units - 100) * 6\n",
    "    print(\"the bill of 200 units is:\",bill)\n",
    "elif(units<=300):\n",
    "    bill=100 * 4.5 + 100 * 6 + (units - 200) * 10\n",
    "    print(\"the bill of 300 units is:\",bill)\n",
    "# elif(units>300):\n",
    "#     bill=units*20\n",
    "#     print(\"the bill of above 300 units is:\",bill)\n",
    "else:\n",
    "    bill=100 * 4.5 + 100 * 6 + 100 * 10 + (units - 300) * 20\n",
    "    print(\"the bill of above 300 units is:\",bill)\n",
    "    "
   ]
  },
  {
   "cell_type": "markdown",
   "id": "057b35d3",
   "metadata": {},
   "source": [
    "Q4. Create a list of numbers from 1 to 100. Use for loop and while loop to calculate the cube of each\n",
    "number and if the cube of that number is divisible by 4 or 5 then append that number in a list and print that list"
   ]
  },
  {
   "cell_type": "code",
   "execution_count": 15,
   "id": "6cc49bb7",
   "metadata": {},
   "outputs": [],
   "source": [
    "my_list=list(range(1,101))"
   ]
  },
  {
   "cell_type": "code",
   "execution_count": 16,
   "id": "6996c5b0",
   "metadata": {},
   "outputs": [
    {
     "data": {
      "text/plain": [
       "[1,\n",
       " 2,\n",
       " 3,\n",
       " 4,\n",
       " 5,\n",
       " 6,\n",
       " 7,\n",
       " 8,\n",
       " 9,\n",
       " 10,\n",
       " 11,\n",
       " 12,\n",
       " 13,\n",
       " 14,\n",
       " 15,\n",
       " 16,\n",
       " 17,\n",
       " 18,\n",
       " 19,\n",
       " 20,\n",
       " 21,\n",
       " 22,\n",
       " 23,\n",
       " 24,\n",
       " 25,\n",
       " 26,\n",
       " 27,\n",
       " 28,\n",
       " 29,\n",
       " 30,\n",
       " 31,\n",
       " 32,\n",
       " 33,\n",
       " 34,\n",
       " 35,\n",
       " 36,\n",
       " 37,\n",
       " 38,\n",
       " 39,\n",
       " 40,\n",
       " 41,\n",
       " 42,\n",
       " 43,\n",
       " 44,\n",
       " 45,\n",
       " 46,\n",
       " 47,\n",
       " 48,\n",
       " 49,\n",
       " 50,\n",
       " 51,\n",
       " 52,\n",
       " 53,\n",
       " 54,\n",
       " 55,\n",
       " 56,\n",
       " 57,\n",
       " 58,\n",
       " 59,\n",
       " 60,\n",
       " 61,\n",
       " 62,\n",
       " 63,\n",
       " 64,\n",
       " 65,\n",
       " 66,\n",
       " 67,\n",
       " 68,\n",
       " 69,\n",
       " 70,\n",
       " 71,\n",
       " 72,\n",
       " 73,\n",
       " 74,\n",
       " 75,\n",
       " 76,\n",
       " 77,\n",
       " 78,\n",
       " 79,\n",
       " 80,\n",
       " 81,\n",
       " 82,\n",
       " 83,\n",
       " 84,\n",
       " 85,\n",
       " 86,\n",
       " 87,\n",
       " 88,\n",
       " 89,\n",
       " 90,\n",
       " 91,\n",
       " 92,\n",
       " 93,\n",
       " 94,\n",
       " 95,\n",
       " 96,\n",
       " 97,\n",
       " 98,\n",
       " 99,\n",
       " 100]"
      ]
     },
     "execution_count": 16,
     "metadata": {},
     "output_type": "execute_result"
    }
   ],
   "source": [
    "my_list"
   ]
  },
  {
   "cell_type": "code",
   "execution_count": 22,
   "id": "944c0c6f",
   "metadata": {},
   "outputs": [
    {
     "name": "stdout",
     "output_type": "stream",
     "text": [
      "the cube of each number 1 * 1 * 1 1\n",
      "the cube of each number 2 * 2 * 2 8\n",
      "the cube of each number 3 * 3 * 3 27\n",
      "the cube of each number 4 * 4 * 4 64\n",
      "the cube of each number 5 * 5 * 5 125\n",
      "the cube of each number 6 * 6 * 6 216\n",
      "the cube of each number 7 * 7 * 7 343\n",
      "the cube of each number 8 * 8 * 8 512\n",
      "the cube of each number 9 * 9 * 9 729\n",
      "the cube of each number 10 * 10 * 10 1000\n",
      "the cube of each number 11 * 11 * 11 1331\n",
      "the cube of each number 12 * 12 * 12 1728\n",
      "the cube of each number 13 * 13 * 13 2197\n",
      "the cube of each number 14 * 14 * 14 2744\n",
      "the cube of each number 15 * 15 * 15 3375\n",
      "the cube of each number 16 * 16 * 16 4096\n",
      "the cube of each number 17 * 17 * 17 4913\n",
      "the cube of each number 18 * 18 * 18 5832\n",
      "the cube of each number 19 * 19 * 19 6859\n",
      "the cube of each number 20 * 20 * 20 8000\n",
      "the cube of each number 21 * 21 * 21 9261\n",
      "the cube of each number 22 * 22 * 22 10648\n",
      "the cube of each number 23 * 23 * 23 12167\n",
      "the cube of each number 24 * 24 * 24 13824\n",
      "the cube of each number 25 * 25 * 25 15625\n",
      "the cube of each number 26 * 26 * 26 17576\n",
      "the cube of each number 27 * 27 * 27 19683\n",
      "the cube of each number 28 * 28 * 28 21952\n",
      "the cube of each number 29 * 29 * 29 24389\n",
      "the cube of each number 30 * 30 * 30 27000\n",
      "the cube of each number 31 * 31 * 31 29791\n",
      "the cube of each number 32 * 32 * 32 32768\n",
      "the cube of each number 33 * 33 * 33 35937\n",
      "the cube of each number 34 * 34 * 34 39304\n",
      "the cube of each number 35 * 35 * 35 42875\n",
      "the cube of each number 36 * 36 * 36 46656\n",
      "the cube of each number 37 * 37 * 37 50653\n",
      "the cube of each number 38 * 38 * 38 54872\n",
      "the cube of each number 39 * 39 * 39 59319\n",
      "the cube of each number 40 * 40 * 40 64000\n",
      "the cube of each number 41 * 41 * 41 68921\n",
      "the cube of each number 42 * 42 * 42 74088\n",
      "the cube of each number 43 * 43 * 43 79507\n",
      "the cube of each number 44 * 44 * 44 85184\n",
      "the cube of each number 45 * 45 * 45 91125\n",
      "the cube of each number 46 * 46 * 46 97336\n",
      "the cube of each number 47 * 47 * 47 103823\n",
      "the cube of each number 48 * 48 * 48 110592\n",
      "the cube of each number 49 * 49 * 49 117649\n",
      "the cube of each number 50 * 50 * 50 125000\n",
      "the cube of each number 51 * 51 * 51 132651\n",
      "the cube of each number 52 * 52 * 52 140608\n",
      "the cube of each number 53 * 53 * 53 148877\n",
      "the cube of each number 54 * 54 * 54 157464\n",
      "the cube of each number 55 * 55 * 55 166375\n",
      "the cube of each number 56 * 56 * 56 175616\n",
      "the cube of each number 57 * 57 * 57 185193\n",
      "the cube of each number 58 * 58 * 58 195112\n",
      "the cube of each number 59 * 59 * 59 205379\n",
      "the cube of each number 60 * 60 * 60 216000\n",
      "the cube of each number 61 * 61 * 61 226981\n",
      "the cube of each number 62 * 62 * 62 238328\n",
      "the cube of each number 63 * 63 * 63 250047\n",
      "the cube of each number 64 * 64 * 64 262144\n",
      "the cube of each number 65 * 65 * 65 274625\n",
      "the cube of each number 66 * 66 * 66 287496\n",
      "the cube of each number 67 * 67 * 67 300763\n",
      "the cube of each number 68 * 68 * 68 314432\n",
      "the cube of each number 69 * 69 * 69 328509\n",
      "the cube of each number 70 * 70 * 70 343000\n",
      "the cube of each number 71 * 71 * 71 357911\n",
      "the cube of each number 72 * 72 * 72 373248\n",
      "the cube of each number 73 * 73 * 73 389017\n",
      "the cube of each number 74 * 74 * 74 405224\n",
      "the cube of each number 75 * 75 * 75 421875\n",
      "the cube of each number 76 * 76 * 76 438976\n",
      "the cube of each number 77 * 77 * 77 456533\n",
      "the cube of each number 78 * 78 * 78 474552\n",
      "the cube of each number 79 * 79 * 79 493039\n",
      "the cube of each number 80 * 80 * 80 512000\n",
      "the cube of each number 81 * 81 * 81 531441\n",
      "the cube of each number 82 * 82 * 82 551368\n",
      "the cube of each number 83 * 83 * 83 571787\n",
      "the cube of each number 84 * 84 * 84 592704\n",
      "the cube of each number 85 * 85 * 85 614125\n",
      "the cube of each number 86 * 86 * 86 636056\n",
      "the cube of each number 87 * 87 * 87 658503\n",
      "the cube of each number 88 * 88 * 88 681472\n",
      "the cube of each number 89 * 89 * 89 704969\n",
      "the cube of each number 90 * 90 * 90 729000\n",
      "the cube of each number 91 * 91 * 91 753571\n",
      "the cube of each number 92 * 92 * 92 778688\n",
      "the cube of each number 93 * 93 * 93 804357\n",
      "the cube of each number 94 * 94 * 94 830584\n",
      "the cube of each number 95 * 95 * 95 857375\n",
      "the cube of each number 96 * 96 * 96 884736\n",
      "the cube of each number 97 * 97 * 97 912673\n",
      "the cube of each number 98 * 98 * 98 941192\n",
      "the cube of each number 99 * 99 * 99 970299\n",
      "the cube of each number 100 * 100 * 100 1000000\n"
     ]
    }
   ],
   "source": [
    "\n",
    "for i in my_list:\n",
    "    cube=i**3\n",
    "    print(\"the cube of each number\",i,\"*\",i,'*',i,cube)"
   ]
  },
  {
   "cell_type": "code",
   "execution_count": 25,
   "id": "a6a99e08",
   "metadata": {},
   "outputs": [
    {
     "name": "stdout",
     "output_type": "stream",
     "text": [
      "[8, 64, 125, 216, 512, 1000, 1728, 2744, 3375, 4096, 5832, 8000, 10648, 13824, 15625, 17576, 21952, 27000, 32768, 39304, 42875, 46656, 54872, 64000, 74088, 85184, 91125, 97336, 110592, 125000, 140608, 157464, 166375, 175616, 195112, 216000, 238328, 262144, 274625, 287496, 314432, 343000, 373248, 405224, 421875, 438976, 474552, 512000, 551368, 592704, 614125, 636056, 681472, 729000, 778688, 830584, 857375, 884736, 941192, 1000000]\n"
     ]
    }
   ],
   "source": [
    "l1=[]\n",
    "for i in my_list:\n",
    "    cube=i**3\n",
    "    if cube%4==0 or cube%5==0:\n",
    "        l1.append(cube)\n",
    "print(l1)"
   ]
  },
  {
   "cell_type": "code",
   "execution_count": 26,
   "id": "15c87449",
   "metadata": {},
   "outputs": [
    {
     "data": {
      "text/plain": [
       "60"
      ]
     },
     "execution_count": 26,
     "metadata": {},
     "output_type": "execute_result"
    }
   ],
   "source": [
    "len(l1)"
   ]
  },
  {
   "cell_type": "markdown",
   "id": "9816bb55",
   "metadata": {},
   "source": [
    "Q5. Write a program to filter count vowels in the below-given string.\n",
    "string = \"I want to become a data scientist\""
   ]
  },
  {
   "cell_type": "code",
   "execution_count": 44,
   "id": "a8084f1c",
   "metadata": {},
   "outputs": [
    {
     "name": "stdout",
     "output_type": "stream",
     "text": [
      "12\n"
     ]
    }
   ],
   "source": [
    "count=0\n",
    "s=\"I want to become a data scientist\"\n",
    "vowels='aieouAIOUE'\n",
    "for i in s:\n",
    "    if i in vowels:\n",
    "        count+=1\n",
    "print(count)"
   ]
  },
  {
   "cell_type": "code",
   "execution_count": 42,
   "id": "4b6f8c14",
   "metadata": {},
   "outputs": [
    {
     "data": {
      "text/plain": [
       "0"
      ]
     },
     "execution_count": 42,
     "metadata": {},
     "output_type": "execute_result"
    }
   ],
   "source": []
  },
  {
   "cell_type": "code",
   "execution_count": null,
   "id": "7fd36041",
   "metadata": {},
   "outputs": [],
   "source": []
  }
 ],
 "metadata": {
  "kernelspec": {
   "display_name": "Python 3 (ipykernel)",
   "language": "python",
   "name": "python3"
  },
  "language_info": {
   "codemirror_mode": {
    "name": "ipython",
    "version": 3
   },
   "file_extension": ".py",
   "mimetype": "text/x-python",
   "name": "python",
   "nbconvert_exporter": "python",
   "pygments_lexer": "ipython3",
   "version": "3.9.12"
  }
 },
 "nbformat": 4,
 "nbformat_minor": 5
}
