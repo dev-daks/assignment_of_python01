{
 "cells": [
  {
   "cell_type": "markdown",
   "id": "18257ce9",
   "metadata": {},
   "source": [
    "1. Write a program to accept percentage from the user and display the grade according to the following \n",
    "criteria: \n",
    "Marks \n",
    "Grade \n",
    ">90 \n",
    "A \n",
    ">80 and <=90 \n",
    "B \n",
    ">=60 and <=80 \n",
    "C \n",
    "below 60 \n",
    "D \n"
   ]
  },
  {
   "cell_type": "code",
   "execution_count": 1,
   "id": "1101c2b0",
   "metadata": {},
   "outputs": [
    {
     "name": "stdout",
     "output_type": "stream",
     "text": [
      "enter the marks80\n",
      "grade c \n"
     ]
    }
   ],
   "source": [
    "marks=int(input(\"enter the marks\"))\n",
    "if marks>90:\n",
    "    print(\"grade A \")\n",
    "elif marks<=90 and marks>80:\n",
    "    print(\"grade B \")\n",
    "elif marks<=80 and marks>60:\n",
    "    print(\"grade c \")\n",
    "else:\n",
    "    print(\"grade d \")"
   ]
  },
  {
   "cell_type": "markdown",
   "id": "9fbb96af",
   "metadata": {},
   "source": [
    "2. Write a program to accept the cost price of a bike and display the road tax to be paid according to the \n",
    "following criteria: \n",
    "Tax \n",
    "15% \n",
    "10% \n",
    "5% \n",
    "Cost Price(in Rs) \n",
    ">100000 \n",
    "50000 and <= 100000 \n",
    "<= 50000 \n"
   ]
  },
  {
   "cell_type": "code",
   "execution_count": 2,
   "id": "63c7dae4",
   "metadata": {},
   "outputs": [
    {
     "name": "stdout",
     "output_type": "stream",
     "text": [
      "enter the cost price100000\n",
      "10000.0\n"
     ]
    }
   ],
   "source": [
    "cost_price=int(input(\"enter the cost price\"))\n",
    "if cost_price>100000:\n",
    "    tax=15*cost_price/100\n",
    "    print(tax)\n",
    "elif cost_price>50000 and cost_price<=100000:\n",
    "    tax=10*cost_price/100\n",
    "    print(tax)\n",
    "else:\n",
    "    tax=5*cost_price/100\n",
    "    print(tax)\n",
    "    "
   ]
  },
  {
   "cell_type": "markdown",
   "id": "96a4e2ed",
   "metadata": {},
   "source": [
    "3. Accept any city from the user and display monuments of that city. \n",
    "City \n",
    "Delhi \n",
    "Monument \n",
    "Red Fort \n",
    "Taj Mahal \n",
    "Agra \n",
    "Jaipur \n",
    "Jal Mahal \n"
   ]
  },
  {
   "cell_type": "code",
   "execution_count": 3,
   "id": "f4d5457d",
   "metadata": {},
   "outputs": [
    {
     "name": "stdout",
     "output_type": "stream",
     "text": [
      "enter the city nameAgra\n",
      "the monument is Taj mahal\n"
     ]
    }
   ],
   "source": [
    "city=str(input(\"enter the city name\"))\n",
    "if city==\"Delhi\":\n",
    "    print(\"the monument is Red fort\")\n",
    "elif city==\"Agra\":\n",
    "    print(\"the monument is Taj mahal\")\n",
    "elif city==\"Jaipur\":\n",
    "    print(\"the monument is jal mahal\")\n",
    "    "
   ]
  },
  {
   "cell_type": "markdown",
   "id": "de052d75",
   "metadata": {},
   "source": [
    "4. Check how many times a given number can be divided by 3 before it is less than or equal to 10. \n"
   ]
  },
  {
   "cell_type": "code",
   "execution_count": 4,
   "id": "7b6ebe50",
   "metadata": {},
   "outputs": [],
   "source": [
    "def count_number(n):\n",
    "    count=0\n",
    "    while(n>=10):\n",
    "        n=n/3\n",
    "        count+=1\n",
    "    return count"
   ]
  },
  {
   "cell_type": "code",
   "execution_count": 5,
   "id": "b7f8f527",
   "metadata": {},
   "outputs": [
    {
     "data": {
      "text/plain": [
       "3"
      ]
     },
     "execution_count": 5,
     "metadata": {},
     "output_type": "execute_result"
    }
   ],
   "source": [
    "count_number(100)"
   ]
  },
  {
   "cell_type": "markdown",
   "id": "e06bcdb0",
   "metadata": {},
   "source": [
    "5. Why and When to Use while Loop in Python give a detailed description with example \n"
   ]
  },
  {
   "cell_type": "raw",
   "id": "1136b130",
   "metadata": {},
   "source": [
    "# The while loop is a fundamental control flow construct in Python that allows you to repeatedly execute a block of code as long as a certain condition is true. It is useful when you want to perform a task iteratively until a specific condition is met. Here's a detailed description of when and how to use the while loop in Python, along with an example:\n",
    "\n",
    "When to Use a while Loop:\n",
    "\n",
    "Iterating Until a Condition is False: The while loop is typically used when you want to repeat a block of code until a certain condition becomes false. The condition is evaluated before each iteration, and as long as it remains true, the loop continues to execute.\n",
    "\n",
    "Unknown or Indeterminate Number of Iterations: Unlike for loops, which are useful when you know the number of iterations in advance, while loops are suitable when the number of iterations is unknown or indeterminate. The loop will continue until the condition becomes false, allowing for flexibility in handling varying situations.\n",
    "\n",
    "Continuous Input Validation: If you need to repeatedly prompt the user for input until a specific condition is satisfied, such as validating user input, the while loop is an excellent choice. It allows you to continuously prompt the user until the desired input is received.\n",
    "\n",
    "Condition-Based Processing: In some scenarios, you may have a condition that determines whether further processing is required. Using a while loop, you can repeatedly check the condition and execute the necessary code until the condition is no longer met."
   ]
  },
  {
   "cell_type": "code",
   "execution_count": 6,
   "id": "651b6812",
   "metadata": {},
   "outputs": [
    {
     "name": "stdout",
     "output_type": "stream",
     "text": [
      "Enter your password: bhegfekr\n",
      "Invalid password. Try again.\n",
      "Enter your password: password0001\n",
      "Login successful!\n"
     ]
    }
   ],
   "source": [
    "correct_password = \"password0001\"\n",
    "\n",
    "while True:\n",
    "    password = input(\"Enter your password: \")\n",
    "    if password == correct_password:\n",
    "        print(\"Login successful!\")\n",
    "        break\n",
    "    else:\n",
    "        print(\"Invalid password. Try again.\")"
   ]
  },
  {
   "cell_type": "markdown",
   "id": "ec5ea8df",
   "metadata": {},
   "source": [
    "6.Use nested while loop to print 3 different pattern. \n"
   ]
  },
  {
   "cell_type": "code",
   "execution_count": 10,
   "id": "362815d7",
   "metadata": {},
   "outputs": [
    {
     "name": "stdout",
     "output_type": "stream",
     "text": [
      "enter the number of rows5\n",
      "enter the number of columns 5\n",
      "* * * * * \n",
      "* * * * * \n",
      "* * * * * \n",
      "* * * * * \n",
      "* * * * * \n"
     ]
    }
   ],
   "source": [
    "rows=int(input(\"enter the number of rows\"))\n",
    "cols=int(input(\"enter the number of columns \"))\n",
    "row=1\n",
    "while(row<=rows):\n",
    "    col=1\n",
    "    while(col<=cols):\n",
    "        print(\"*\",end=\" \")\n",
    "        col+=1\n",
    "    print()\n",
    "    row+=1\n",
    "\n"
   ]
  },
  {
   "cell_type": "code",
   "execution_count": 12,
   "id": "77dd7c5c",
   "metadata": {},
   "outputs": [
    {
     "name": "stdout",
     "output_type": "stream",
     "text": [
      "enter the number of rows5\n",
      "enter the number of columns 5\n",
      "* \n",
      "* * \n",
      "* * * \n",
      "* * * * \n",
      "* * * * * \n"
     ]
    }
   ],
   "source": [
    "rows=int(input(\"enter the number of rows\"))\n",
    "cols=int(input(\"enter the number of columns \"))\n",
    "row=1\n",
    "while(row<=rows):\n",
    "    col=1\n",
    "    while(col<=row):\n",
    "        print(\"*\",end=\" \")\n",
    "        col+=1\n",
    "    print()\n",
    "    row+=1"
   ]
  },
  {
   "cell_type": "code",
   "execution_count": 13,
   "id": "aef99bce",
   "metadata": {},
   "outputs": [
    {
     "name": "stdout",
     "output_type": "stream",
     "text": [
      "enter the number of rows5\n",
      "enter the number of columns 5\n",
      "1 \n",
      "1 2 \n",
      "1 2 3 \n",
      "1 2 3 4 \n",
      "1 2 3 4 5 \n"
     ]
    }
   ],
   "source": [
    "rows=int(input(\"enter the number of rows\"))\n",
    "cols=int(input(\"enter the number of columns \"))\n",
    "row=1\n",
    "while(row<=rows):\n",
    "    col=1\n",
    "    while(col<=row):\n",
    "        print(col,end=\" \")\n",
    "        col+=1\n",
    "    print()\n",
    "    row+=1"
   ]
  },
  {
   "cell_type": "markdown",
   "id": "b087748f",
   "metadata": {},
   "source": [
    "7. Reverse a while loop to display numbers from 10 to 1. \n"
   ]
  },
  {
   "cell_type": "code",
   "execution_count": null,
   "id": "02360c13",
   "metadata": {},
   "outputs": [],
   "source": [
    "# to ppending list"
   ]
  },
  {
   "cell_type": "code",
   "execution_count": null,
   "id": "79e57727",
   "metadata": {},
   "outputs": [],
   "source": [
    "l=[]\n",
    "n=1\n",
    "while(n<=10):\n",
    "    l.append(n)\n",
    "    n+=1\n",
    "l[::-1]\n",
    "    "
   ]
  },
  {
   "cell_type": "code",
   "execution_count": null,
   "id": "48687b6e",
   "metadata": {},
   "outputs": [],
   "source": [
    "l"
   ]
  },
  {
   "cell_type": "code",
   "execution_count": null,
   "id": "8a82dd5d",
   "metadata": {},
   "outputs": [],
   "source": [
    "#second method\n",
    "n=10\n",
    "while(n>=1):\n",
    "    print(n)\n",
    "    n-=1"
   ]
  },
  {
   "cell_type": "markdown",
   "id": "5823ee33",
   "metadata": {},
   "source": [
    "8. Reverse a while loop to display numbers from 10 to 1 \n"
   ]
  },
  {
   "cell_type": "code",
   "execution_count": null,
   "id": "642d209c",
   "metadata": {},
   "outputs": [],
   "source": [
    "n=10\n",
    "while(n>=1):\n",
    "    print(n)\n",
    "    n-=1"
   ]
  },
  {
   "cell_type": "code",
   "execution_count": null,
   "id": "620a7810",
   "metadata": {},
   "outputs": [],
   "source": []
  }
 ],
 "metadata": {
  "kernelspec": {
   "display_name": "Python 3 (ipykernel)",
   "language": "python",
   "name": "python3"
  },
  "language_info": {
   "codemirror_mode": {
    "name": "ipython",
    "version": 3
   },
   "file_extension": ".py",
   "mimetype": "text/x-python",
   "name": "python",
   "nbconvert_exporter": "python",
   "pygments_lexer": "ipython3",
   "version": "3.9.12"
  }
 },
 "nbformat": 4,
 "nbformat_minor": 5
}
